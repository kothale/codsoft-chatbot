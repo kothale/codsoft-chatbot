{
  "nbformat": 4,
  "nbformat_minor": 0,
  "metadata": {
    "colab": {
      "provenance": [],
      "authorship_tag": "ABX9TyMFUb/NlTcWwppCE9CRBkkH",
      "include_colab_link": true
    },
    "kernelspec": {
      "name": "python3",
      "display_name": "Python 3"
    },
    "language_info": {
      "name": "python"
    }
  },
  "cells": [
    {
      "cell_type": "markdown",
      "metadata": {
        "id": "view-in-github",
        "colab_type": "text"
      },
      "source": [
        "<a href=\"https://colab.research.google.com/github/kothale/codsoft-chatbot/blob/main/tictactoe.ipynb\" target=\"_parent\"><img src=\"https://colab.research.google.com/assets/colab-badge.svg\" alt=\"Open In Colab\"/></a>"
      ]
    },
    {
      "cell_type": "code",
      "execution_count": 36,
      "metadata": {
        "id": "TFTSEfPcMEBR"
      },
      "outputs": [],
      "source": [
        "import math\n",
        "import copy"
      ]
    },
    {
      "cell_type": "code",
      "source": [
        "class TicTacToe:\n",
        "    def __init__(self):\n",
        "        self.board = [' ' for _ in range(9)]  # Initialize the board\n",
        "        self.current_winner = None\n",
        "\n",
        "    def print_board(self):\n",
        "        for row in [self.board[i*3:(i+1)*3] for i in range(3)]:\n",
        "            print('| ' + ' | '.join(row) + ' |')"
      ],
      "metadata": {
        "id": "PQjjTjzQMJtg"
      },
      "execution_count": 37,
      "outputs": []
    },
    {
      "cell_type": "code",
      "source": [
        "def print_board_nums():\n",
        "        # Tells us what number corresponds to what box\n",
        "        number_board = [[str(i) for i in range(j*3, (j+1)*3)] for j in range(3)]\n",
        "        for row in number_board:\n",
        "            print('| ' + ' | '.join(row) + ' |')"
      ],
      "metadata": {
        "id": "nL8ttBzuMOgn"
      },
      "execution_count": 38,
      "outputs": []
    },
    {
      "cell_type": "code",
      "source": [
        "def available_moves(self):\n",
        "        return [i for i, spot in enumerate(self.board) if spot == ' ']"
      ],
      "metadata": {
        "id": "xsAogNbnMYpu"
      },
      "execution_count": 39,
      "outputs": []
    },
    {
      "cell_type": "code",
      "source": [
        "def empty_squares(self):\n",
        "        return ' ' in self.board"
      ],
      "metadata": {
        "id": "PBNgdtw2MbiH"
      },
      "execution_count": 40,
      "outputs": []
    },
    {
      "cell_type": "code",
      "source": [
        "def num_empty_squares(self):\n",
        "        return self.board.count(' ')"
      ],
      "metadata": {
        "id": "N-0OK-QVMkTs"
      },
      "execution_count": 41,
      "outputs": []
    },
    {
      "cell_type": "code",
      "source": [
        "def make_move(self, square, letter):\n",
        "        if self.board[square] == ' ':\n",
        "            self.board[square] = letter\n",
        "            if self.winner(square, letter):\n",
        "                self.current_winner = letter\n",
        "            return True\n",
        "        return False"
      ],
      "metadata": {
        "id": "CAhUhYHGMmFG"
      },
      "execution_count": 42,
      "outputs": []
    },
    {
      "cell_type": "code",
      "source": [
        "def winner(self, square, letter):\n",
        "        # Check row\n",
        "        row_ind = square // 3\n",
        "        row = self.board[row_ind*3:(row_ind+1)*3]\n",
        "        if all([spot == letter for spot in row]):\n",
        "            return True\n",
        "        # Check column\n",
        "        col_ind = square % 3\n",
        "        column = [self.board[col_ind+i*3] for i in range(3)]\n",
        "        if all([spot == letter for spot in column]):\n",
        "            return True\n",
        "        # Check diagonal\n",
        "        if square % 2 == 0:\n",
        "            diagonal1 = [self.board[i] for i in [0, 4, 8]]\n",
        "            if all([spot == letter for spot in diagonal1]):\n",
        "                return True\n",
        "            diagonal2 = [self.board[i] for i in [2, 4, 6]]\n",
        "            if all([spot == letter for spot in diagonal2]):\n",
        "                return True\n",
        "        return False"
      ],
      "metadata": {
        "id": "87tiF1SFMvEF"
      },
      "execution_count": 43,
      "outputs": []
    },
    {
      "cell_type": "code",
      "source": [
        "def minimax(board, maximizing_player, alpha, beta):\n",
        "    if board.current_winner is not None:\n",
        "        return None, 1 if board.current_winner == 'O' else -1, None  # (best_move, value, depth)\n",
        "    if not board.empty_squares():\n",
        "      return None, 0, None\n",
        "    if maximizing_player:\n",
        "        value = -math.inf\n",
        "        best_move = None\n",
        "        for square in board.available_moves():\n",
        "            board_copy = copy.deepcopy(board)\n",
        "            board_copy.make_move(square, 'O')\n",
        "            _, min_val, _ = minimax(board_copy, False, alpha, beta)\n",
        "            if min_val > value:\n",
        "                value = min_val\n",
        "                best_move = square\n",
        "            alpha = max(alpha, value)\n",
        "            if alpha >= beta:\n",
        "                break\n",
        "        return best_move, value, None\n",
        "    else:\n",
        "        value = math.inf\n",
        "        best_move = None\n",
        "        for square in board.available_moves():\n",
        "            board_copy = copy.deepcopy(board)\n",
        "            board_copy.make_move(square, 'X')\n",
        "            _, max_val, _ = minimax(board_copy, True, alpha, beta)\n",
        "            if max_val < value:\n",
        "                value = max_val\n",
        "                best_move = square\n",
        "            beta = min(beta, value)\n",
        "            if alpha >= beta:\n",
        "                break\n",
        "        return best_move, value, None"
      ],
      "metadata": {
        "id": "wGbgk7fjMyFX"
      },
      "execution_count": 44,
      "outputs": []
    },
    {
      "cell_type": "code",
      "source": [
        "def print_board_nums():\n",
        "    # Tells us what number corresponds to what box\n",
        "    number_board = [[str(i) for i in range(j*3, (j+1)*3)] for j in range(3)]\n",
        "    for row in number_board:\n",
        "        print('| ' + ' | '.join(row) + ' |')\n",
        "\n",
        "def play_game():\n",
        "    game = TicTacToe()\n",
        "    print(\"Tic-Tac-Toe Game!\")\n",
        "    print(\"Here's the current board layout:\")\n",
        "    print_board_nums()  # Use the standalone function here\n",
        "    print(\"Let's start the game!\")\n",
        "    print(\"You are playing as 'X'. Enter the position where you want to make your move.\")\n",
        "\n",
        "    while game.empty_squares():\n",
        "        if game.current_winner is None:\n",
        "            if game.num_empty_squares() == 1:\n",
        "                square = game.available_moves()[0]\n",
        "                game.make_move(square, 'O')\n",
        "                print(\"AI (O) has made its move:\")\n",
        "                game.print_board()\n",
        "                break\n",
        "\n",
        "            print(\"Your turn! (Enter a number between 0-8): \")\n",
        "            move = int(input())\n",
        "            if move not in game.available_moves():\n",
        "                print(\"Invalid move! Please try again.\")\n",
        "                continue\n",
        "            game.make_move(move, 'X')\n",
        "            print(\"You've made your move:\")\n",
        "            game.print_board()\n",
        "\n",
        "        best_move, _, _ = minimax(game, True, -math.inf, math.inf)\n",
        "        if best_move is not None:\n",
        "            game.make_move(best_move, 'O')\n",
        "            print(\"AI (O) has made its move:\")\n",
        "            game.print_board()\n",
        "\n",
        "        if game.current_winner is not None:\n",
        "            if game.current_winner == 'X':\n",
        "                print(\"Congratulations! You won!\")\n",
        "            elif game.current_winner == 'O':\n",
        "                print(\"AI (O) won!\")\n",
        "            else:\n",
        "                print(\"It's a tie!\")\n",
        "            break\n",
        "\n",
        "    if not game.empty_squares() and game.current_winner is None:\n",
        "        print(\"It's a tie!\")"
      ],
      "metadata": {
        "id": "RfVPzmNHQx1k"
      },
      "execution_count": 52,
      "outputs": []
    },
    {
      "cell_type": "code",
      "source": [
        "if __name__ == '__main__':\n",
        "    play_game()"
      ],
      "metadata": {
        "colab": {
          "base_uri": "https://localhost:8080/"
        },
        "id": "DtTU5c7YQhI6",
        "outputId": "12fc3457-1011-48d3-ef80-c717602ee693"
      },
      "execution_count": null,
      "outputs": [
        {
          "output_type": "stream",
          "name": "stdout",
          "text": [
            "Tic-Tac-Toe Game!\n",
            "Here's the current board layout:\n",
            "| 0 | 1 | 2 |\n",
            "| 3 | 4 | 5 |\n",
            "| 6 | 7 | 8 |\n",
            "Let's start the game!\n",
            "You are playing as 'X'. Enter the position where you want to make your move.\n",
            "Your turn! (Enter a number between 0-8): \n",
            "3\n",
            "You've made your move:\n",
            "|   |   |   |\n",
            "| X |   |   |\n",
            "|   |   |   |\n",
            "AI (O) has made its move:\n",
            "| O |   |   |\n",
            "| X |   |   |\n",
            "|   |   |   |\n",
            "Your turn! (Enter a number between 0-8): \n"
          ]
        }
      ]
    },
    {
      "cell_type": "code",
      "source": [],
      "metadata": {
        "id": "q86YmYBJQ4qy"
      },
      "execution_count": null,
      "outputs": []
    }
  ]
}