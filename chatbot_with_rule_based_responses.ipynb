{
  "cells": [
    {
      "cell_type": "markdown",
      "metadata": {
        "id": "view-in-github",
        "colab_type": "text"
      },
      "source": [
        "<a href=\"https://colab.research.google.com/github/kothale/codsoft-chatbot/blob/main/chatbot_with_rule_based_responses.ipynb\" target=\"_parent\"><img src=\"https://colab.research.google.com/assets/colab-badge.svg\" alt=\"Open In Colab\"/></a>"
      ]
    },
    {
      "cell_type": "code",
      "execution_count": null,
      "metadata": {
        "colab": {
          "background_save": true,
          "base_uri": "https://localhost:8080/"
        },
        "id": "QJtxGFjOHDwV",
        "outputId": "b9300da2-938d-49c4-d741-c70d46262743"
      },
      "outputs": [
        {
          "output_type": "stream",
          "name": "stdout",
          "text": [
            "Welcome to the Simple Chatbot!\n",
            "You can start chatting. Type 'exit' to end the conversation.\n"
          ]
        }
      ],
      "source": [
        "def chatbot_response(user_input):\n",
        "    if \"hello\" in user_input.lower():\n",
        "        return \"Hello! How can I assist you today?\"\n",
        "    elif \"how are you\" in user_input.lower():\n",
        "        return \"I'm just a bot, but thanks for asking!\"\n",
        "    elif \"goodbye\" in user_input.lower():\n",
        "        return \"Goodbye! Have a great day!\"\n",
        "    else:\n",
        "        return \"I'm sorry, I didn't understand that. Can you please rephrase or ask something else?\"\n",
        "\n",
        "# Main function to run the chatbot\n",
        "def main():\n",
        "    print(\"Welcome to the Simple Chatbot!\")\n",
        "    print(\"You can start chatting. Type 'exit' to end the conversation.\")\n",
        "\n",
        "    while True:\n",
        "        user_input = input(\"You: \")\n",
        "        if user_input.lower() == 'exit':\n",
        "            print(\"Chatbot: Goodbye! Have a great day!\")\n",
        "            break\n",
        "        else:\n",
        "            response = chatbot_response(user_input)\n",
        "            print(\"Chatbot:\", response)\n",
        "\n",
        "if __name__ == \"__main__\":\n",
        "    main()\n"
      ]
    }
  ],
  "metadata": {
    "colab": {
      "provenance": [],
      "authorship_tag": "ABX9TyOjHGqJuxH1ISbU3m8zR9P3",
      "include_colab_link": true
    },
    "kernelspec": {
      "display_name": "Python 3",
      "name": "python3"
    },
    "language_info": {
      "name": "python"
    }
  },
  "nbformat": 4,
  "nbformat_minor": 0
}