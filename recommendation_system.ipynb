{
  "cells": [
    {
      "cell_type": "markdown",
      "metadata": {
        "id": "view-in-github",
        "colab_type": "text"
      },
      "source": [
        "<a href=\"https://colab.research.google.com/github/kothale/codsoft-chatbot/blob/main/recommendation_system.ipynb\" target=\"_parent\"><img src=\"https://colab.research.google.com/assets/colab-badge.svg\" alt=\"Open In Colab\"/></a>"
      ]
    },
    {
      "cell_type": "code",
      "source": [
        "import numpy as np"
      ],
      "metadata": {
        "id": "Yi86XmzkEPoy"
      },
      "execution_count": 15,
      "outputs": []
    },
    {
      "cell_type": "code",
      "source": [
        "ratings = np.array([\n",
        "    [5, 4, 0, 0, 1],\n",
        "    [0, 0, 5, 4, 2],\n",
        "    [3, 0, 0, 0, 4],\n",
        "    [0, 2, 4, 0, 5]\n",
        "])"
      ],
      "metadata": {
        "id": "hCOuI_rlLTaC"
      },
      "execution_count": 16,
      "outputs": []
    },
    {
      "cell_type": "code",
      "source": [
        "# Function to calculate similarity between users using cosine similarity\n",
        "def cosine_similarity(user1, user2):\n",
        "    # Find indices where both users have rated items\n",
        "    rated_by_both = np.logical_and(user1 != 0, user2 != 0)\n",
        "    if np.sum(rated_by_both) == 0:\n",
        "        return 0  # No common ratings, similarity is 0\n",
        "    # Calculate cosine similarity\n",
        "    return np.dot(user1, user2) / (np.linalg.norm(user1) * np.linalg.norm(user2))"
      ],
      "metadata": {
        "id": "R1qHAhkELVg6"
      },
      "execution_count": 17,
      "outputs": []
    },
    {
      "cell_type": "code",
      "source": [
        "# Function to recommend items to a user\n",
        "def recommend_items(user_id, ratings):\n",
        "    num_users = ratings.shape[0]\n",
        "    user_ratings = ratings[user_id]\n",
        "\n",
        "    # Calculate similarity between the target user and all other users\n",
        "    similarities = np.zeros(num_users)\n",
        "    for i in range(num_users):\n",
        "        similarities[i] = cosine_similarity(user_ratings, ratings[i])\n",
        "\n",
        "    # Find users similar to the target user\n",
        "    similar_users = np.argsort(similarities)[::-1]  # Sort in descending order\n",
        "\n",
        "    # Find items that the target user hasn't rated\n",
        "    unrated_items = np.where(user_ratings == 0)[0]\n",
        "\n",
        "    # Generate recommendations based on ratings of similar users\n",
        "    recommendations = []\n",
        "    for item in unrated_items:\n",
        "        # Calculate weighted average rating of similar users for the item\n",
        "        weighted_sum = 0\n",
        "        total_similarity = 0\n",
        "        for sim_user in similar_users:\n",
        "            if ratings[sim_user, item] != 0:\n",
        "                weighted_sum += similarities[sim_user] * ratings[sim_user, item]\n",
        "                total_similarity += similarities[sim_user]\n",
        "        if total_similarity != 0:\n",
        "            recommendation_score = weighted_sum / total_similarity\n",
        "            recommendations.append((item, recommendation_score))\n",
        "\n",
        "    # Sort recommendations by score\n",
        "    recommendations.sort(key=lambda x: x[1], reverse=True)\n",
        "\n",
        "    return recommendations"
      ],
      "metadata": {
        "id": "cHcIqe9OLZG1"
      },
      "execution_count": 18,
      "outputs": []
    },
    {
      "cell_type": "code",
      "source": [
        "user_id = 0  # ID of the user for whom recommendations are needed\n",
        "recommendations = recommend_items(user_id, ratings)\n",
        "print(\"Recommendations for user\", user_id)\n",
        "for item, score in recommendations:\n",
        "    print(\"Item:\", item, \"Score:\", score)"
      ],
      "metadata": {
        "colab": {
          "base_uri": "https://localhost:8080/"
        },
        "id": "L0b9xldsLhis",
        "outputId": "fb9e000e-e2c8-405e-d03b-d85cd5ae726e"
      },
      "execution_count": 19,
      "outputs": [
        {
          "output_type": "stream",
          "name": "stdout",
          "text": [
            "Recommendations for user 0\n",
            "Item: 2 Score: 4.133333333333334\n",
            "Item: 3 Score: 4.0\n"
          ]
        }
      ]
    },
    {
      "cell_type": "code",
      "source": [],
      "metadata": {
        "id": "AxDboT4cLkxw"
      },
      "execution_count": null,
      "outputs": []
    }
  ],
  "metadata": {
    "colab": {
      "provenance": [],
      "mount_file_id": "1SU_G7S9jLGpeKXI_PyV5vpXzHVF4jXr2",
      "authorship_tag": "ABX9TyM71aKsGM+0tP+1YFz3HsSE",
      "include_colab_link": true
    },
    "kernelspec": {
      "display_name": "Python 3",
      "name": "python3"
    },
    "language_info": {
      "name": "python"
    }
  },
  "nbformat": 4,
  "nbformat_minor": 0
}